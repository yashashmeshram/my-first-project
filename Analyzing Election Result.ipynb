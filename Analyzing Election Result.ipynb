{
 "cells": [
  {
   "cell_type": "code",
   "execution_count": 1,
   "id": "f663d830-bd7e-4c47-9fcd-80a9afaee042",
   "metadata": {},
   "outputs": [
    {
     "name": "stdout",
     "output_type": "stream",
     "text": [
      "Requirement already satisfied: pandas in c:\\users\\loq\\anaconda3\\lib\\site-packages (2.2.2)Note: you may need to restart the kernel to use updated packages.\n",
      "\n",
      "Requirement already satisfied: numpy>=1.26.0 in c:\\users\\loq\\anaconda3\\lib\\site-packages (from pandas) (1.26.4)\n",
      "Requirement already satisfied: python-dateutil>=2.8.2 in c:\\users\\loq\\anaconda3\\lib\\site-packages (from pandas) (2.9.0.post0)\n",
      "Requirement already satisfied: pytz>=2020.1 in c:\\users\\loq\\anaconda3\\lib\\site-packages (from pandas) (2024.1)\n",
      "Requirement already satisfied: tzdata>=2022.7 in c:\\users\\loq\\anaconda3\\lib\\site-packages (from pandas) (2023.3)\n",
      "Requirement already satisfied: six>=1.5 in c:\\users\\loq\\anaconda3\\lib\\site-packages (from python-dateutil>=2.8.2->pandas) (1.16.0)\n"
     ]
    }
   ],
   "source": [
    "pip install pandas\n"
   ]
  },
  {
   "cell_type": "code",
   "execution_count": 2,
   "id": "91e54462-795f-4b7e-b6e9-0cc35ed621c9",
   "metadata": {
    "scrolled": true
   },
   "outputs": [
    {
     "name": "stdout",
     "output_type": "stream",
     "text": [
      "\n",
      "Total Votes per Party:\n",
      " Party\n",
      "Party A    59000\n",
      "Party B    26000\n",
      "Party C    41000\n",
      "Name: Votes, dtype: int64\n",
      "\n",
      "Winning Party by Constituency:\n",
      " Constituency\n",
      "A    Party A\n",
      "B    Party B\n",
      "C    Party C\n",
      "dtype: object\n",
      "\n",
      "Overall Election Winner: Party A\n",
      "\n",
      "Vote Share Percentages:\n",
      "   Constituency    Party    Candidate  Votes  Vote Share (%)\n",
      "0            A  Party A  Candidate X  15000       11.904762\n",
      "1            B  Party B  Candidate Y  12000        9.523810\n",
      "2            C  Party C  Candidate Z  18000       14.285714\n",
      "3            A  Party C  Candidate P  13000       10.317460\n",
      "4            B  Party C  Candidate Q  10000        7.936508\n",
      "5            C  Party A  Candidate R  11000        8.730159\n",
      "6            A  Party A  Candidate S  17000       13.492063\n",
      "7            B  Party B  Candidate T  14000       11.111111\n",
      "8            C  Party A  Candidate U  16000       12.698413\n",
      "\n",
      "Constituencies with Close Contests: ['A' 'C']\n"
     ]
    },
    {
     "name": "stderr",
     "output_type": "stream",
     "text": [
      "C:\\Users\\LOQ\\AppData\\Local\\Temp\\ipykernel_5952\\2417501231.py:22: DeprecationWarning: DataFrameGroupBy.apply operated on the grouping columns. This behavior is deprecated, and in a future version of pandas the grouping columns will be excluded from the operation. Either pass `include_groups=False` to exclude the groupings or explicitly select the grouping columns after groupby to silence this warning.\n",
      "  winning_party_by_constituency = df.groupby('Constituency').apply(get_winning_party)\n"
     ]
    }
   ],
   "source": [
    "import pandas as pd\n",
    "\n",
    "# Sample election results data (replace with actual data)\n",
    "data = {\n",
    "    'Constituency': ['A', 'B', 'C', 'A', 'B', 'C', 'A', 'B', 'C'],\n",
    "    'Party': ['Party A', 'Party B', 'Party C', 'Party C', 'Party C', 'Party A', 'Party A', 'Party B', 'Party A'],\n",
    "    'Candidate': ['Candidate X', 'Candidate Y', 'Candidate Z', 'Candidate P', 'Candidate Q', 'Candidate R', 'Candidate S', 'Candidate T', 'Candidate U'],\n",
    "    'Votes': [15000, 12000, 18000, 13000, 10000, 11000, 17000, 14000, 16000]\n",
    "}\n",
    "\n",
    "# Create DataFrame\n",
    "df = pd.DataFrame(data)\n",
    "\n",
    "# Calculate total votes for each party\n",
    "total_votes_by_party = df.groupby('Party')['Votes'].sum()\n",
    "print(\"\\nTotal Votes per Party:\\n\", total_votes_by_party)\n",
    "\n",
    "# Identify winning party in each constituency\n",
    "def get_winning_party(x):\n",
    "    return x.loc[x['Votes'].idxmax(), 'Party']\n",
    "\n",
    "winning_party_by_constituency = df.groupby('Constituency').apply(get_winning_party)\n",
    "print(\"\\nWinning Party by Constituency:\\n\", winning_party_by_constituency)\n",
    "\n",
    "# Determine overall election winner\n",
    "overall_winner = total_votes_by_party.idxmax()\n",
    "print(\"\\nOverall Election Winner:\", overall_winner)\n",
    "\n",
    "# Calculate vote share percentages\n",
    "total_votes = df['Votes'].sum()\n",
    "df['Vote Share (%)'] = (df['Votes'] / total_votes) * 100\n",
    "print(\"\\nVote Share Percentages:\\n\", df)\n",
    "\n",
    "# Identify constituencies with close contests (margin < 12%)\n",
    "def close_contest(x):\n",
    "    vote_counts = x['Votes'].values\n",
    "    if len(vote_counts) > 1:\n",
    "        vote_counts.sort()\n",
    "        margin = (vote_counts[-1] - vote_counts[-2]) / vote_counts[-1] * 100\n",
    "        return margin < 12.0\n",
    "    return False\n",
    "\n",
    "close_constituencies = df.groupby('Constituency').filter(close_contest)['Constituency'].unique()\n",
    "print(\"\\nConstituencies with Close Contests:\", close_constituencies)\n"
   ]
  },
  {
   "cell_type": "code",
   "execution_count": 5,
   "id": "3415a542-e45f-41e3-af0d-9ad119f264e4",
   "metadata": {},
   "outputs": [
    {
     "name": "stdout",
     "output_type": "stream",
     "text": [
      "Requirement already satisfied: matplotlib in c:\\users\\loq\\anaconda3\\lib\\site-packages (3.9.2)\n",
      "Requirement already satisfied: contourpy>=1.0.1 in c:\\users\\loq\\anaconda3\\lib\\site-packages (from matplotlib) (1.2.0)\n",
      "Requirement already satisfied: cycler>=0.10 in c:\\users\\loq\\anaconda3\\lib\\site-packages (from matplotlib) (0.11.0)\n",
      "Requirement already satisfied: fonttools>=4.22.0 in c:\\users\\loq\\anaconda3\\lib\\site-packages (from matplotlib) (4.51.0)\n",
      "Requirement already satisfied: kiwisolver>=1.3.1 in c:\\users\\loq\\anaconda3\\lib\\site-packages (from matplotlib) (1.4.4)\n",
      "Requirement already satisfied: numpy>=1.23 in c:\\users\\loq\\anaconda3\\lib\\site-packages (from matplotlib) (1.26.4)\n",
      "Requirement already satisfied: packaging>=20.0 in c:\\users\\loq\\anaconda3\\lib\\site-packages (from matplotlib) (24.1)\n",
      "Requirement already satisfied: pillow>=8 in c:\\users\\loq\\anaconda3\\lib\\site-packages (from matplotlib) (10.4.0)\n",
      "Requirement already satisfied: pyparsing>=2.3.1 in c:\\users\\loq\\anaconda3\\lib\\site-packages (from matplotlib) (3.1.2)\n",
      "Requirement already satisfied: python-dateutil>=2.7 in c:\\users\\loq\\anaconda3\\lib\\site-packages (from matplotlib) (2.9.0.post0)\n",
      "Requirement already satisfied: six>=1.5 in c:\\users\\loq\\anaconda3\\lib\\site-packages (from python-dateutil>=2.7->matplotlib) (1.16.0)\n"
     ]
    }
   ],
   "source": [
    "!pip install matplotlib\n",
    "\n"
   ]
  },
  {
   "cell_type": "code",
   "execution_count": 6,
   "id": "b1e377a8-de54-4f56-9f6f-87742a6657db",
   "metadata": {},
   "outputs": [
    {
     "name": "stderr",
     "output_type": "stream",
     "text": [
      "Matplotlib is building the font cache; this may take a moment.\n"
     ]
    },
    {
     "data": {
      "image/png": "[encoded data removed]",
      "text/plain": [
       "<Figure size 640x480 with 1 Axes>"
      ]
     },
     "metadata": {},
     "output_type": "display_data"
    }
   ],
   "source": [
    "import matplotlib.pyplot as plt\n",
    "\n",
    "total_votes_by_party.plot(kind='bar', title=\"Total Votes per Party\")\n",
    "plt.ylabel(\"Votes\")\n",
    "plt.show()\n"
   ]
  },
  {
   "cell_type": "code",
   "execution_count": null,
   "id": "ddb0e57b-74a8-42f8-9183-fc7a2f725f72",
   "metadata": {},
   "outputs": [],
   "source": []
  }
 ],
 "metadata": {
  "kernelspec": {
   "display_name": "Python 3 (ipykernel)",
   "language": "python",
   "name": "python3"
  },
  "language_info": {
   "codemirror_mode": {
    "name": "ipython",
    "version": 3
   },
   "file_extension": ".py",
   "mimetype": "text/x-python",
   "name": "python",
   "nbconvert_exporter": "python",
   "pygments_lexer": "ipython3",
   "version": "3.12.7"
  }
 },
 "nbformat": 4,
 "nbformat_minor": 5
}
